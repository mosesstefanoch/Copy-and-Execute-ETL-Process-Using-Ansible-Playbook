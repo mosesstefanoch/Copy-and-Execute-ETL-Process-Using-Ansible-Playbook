{
 "cells": [
  {
   "cell_type": "markdown",
   "id": "grand-identity",
   "metadata": {},
   "source": [
    "# ETL PROCESS"
   ]
  },
  {
   "cell_type": "markdown",
   "id": "linear-facility",
   "metadata": {},
   "source": [
    "Provide detailed explanations of ETL Process and make simple ETL in Python that transform these 3 CSV file into single table CSV"
   ]
  },
  {
   "cell_type": "markdown",
   "id": "instructional-lighter",
   "metadata": {},
   "source": [
    "ETL, which stands for extract, transform and load, is a data integration process that combines data from multiple data sources into a single, consistent data store that is loaded into a data warehouse or other target system."
   ]
  },
  {
   "cell_type": "markdown",
   "id": "greenhouse-account",
   "metadata": {},
   "source": [
    "ETL provides the foundation for data analytics and machine learning workstreams. Through a series of business rules, ETL cleanses and organizes data in a way which addresses specific business intelligence needs, like monthly reporting, but it can also tackle more advanced analytics, which can improve back-end processes or end user experiences. ETL is often used by an organization to: \n",
    "\n",
    "-Extract data from legacy systems\n",
    "\n",
    "-Cleanse the data to improve data quality and establish consistency\n",
    "\n",
    "-Load data into a target database"
   ]
  },
  {
   "cell_type": "code",
   "execution_count": 1,
   "id": "sought-truth",
   "metadata": {},
   "outputs": [],
   "source": [
    "#Import important libraries\n",
    "import numpy as np\n",
    "import pandas as pd\n",
    "import matplotlib.pyplot as plt\n",
    "import seaborn as sns"
   ]
  },
  {
   "cell_type": "code",
   "execution_count": 2,
   "id": "governing-dealing",
   "metadata": {},
   "outputs": [],
   "source": [
    "#Read CSV Using Pandas\n",
    "final_superstore = pd.read_csv('csv_sample_data/final_superstore.csv')\n",
    "customer_id_superstore = pd.read_csv('csv_sample_data/Customer_ID_Superstore.csv')\n",
    "product_id_superstore = pd.read_csv('csv_sample_data/Product_ID_Superstore.csv')"
   ]
  },
  {
   "cell_type": "code",
   "execution_count": 3,
   "id": "wanted-break",
   "metadata": {},
   "outputs": [
    {
     "data": {
      "text/html": [
       "<div>\n",
       "<style scoped>\n",
       "    .dataframe tbody tr th:only-of-type {\n",
       "        vertical-align: middle;\n",
       "    }\n",
       "\n",
       "    .dataframe tbody tr th {\n",
       "        vertical-align: top;\n",
       "    }\n",
       "\n",
       "    .dataframe thead th {\n",
       "        text-align: right;\n",
       "    }\n",
       "</style>\n",
       "<table border=\"1\" class=\"dataframe\">\n",
       "  <thead>\n",
       "    <tr style=\"text-align: right;\">\n",
       "      <th></th>\n",
       "      <th>row_id</th>\n",
       "      <th>order_id</th>\n",
       "      <th>order_date</th>\n",
       "      <th>ship_date</th>\n",
       "      <th>ship_mode</th>\n",
       "      <th>customer_id</th>\n",
       "      <th>product_id</th>\n",
       "      <th>sales</th>\n",
       "      <th>quantity</th>\n",
       "      <th>discount</th>\n",
       "      <th>profit</th>\n",
       "    </tr>\n",
       "  </thead>\n",
       "  <tbody>\n",
       "    <tr>\n",
       "      <th>0</th>\n",
       "      <td>1</td>\n",
       "      <td>CA-2016-152156</td>\n",
       "      <td>11/8/2016</td>\n",
       "      <td>11/11/2016</td>\n",
       "      <td>Second Class</td>\n",
       "      <td>CG-12520</td>\n",
       "      <td>FUR-BO-10001798</td>\n",
       "      <td>261.9600</td>\n",
       "      <td>2</td>\n",
       "      <td>0.00</td>\n",
       "      <td>41.9136</td>\n",
       "    </tr>\n",
       "    <tr>\n",
       "      <th>1</th>\n",
       "      <td>2</td>\n",
       "      <td>CA-2016-152156</td>\n",
       "      <td>11/8/2016</td>\n",
       "      <td>11/11/2016</td>\n",
       "      <td>Second Class</td>\n",
       "      <td>CG-12520</td>\n",
       "      <td>FUR-CH-10000454</td>\n",
       "      <td>731.9400</td>\n",
       "      <td>3</td>\n",
       "      <td>0.00</td>\n",
       "      <td>219.5820</td>\n",
       "    </tr>\n",
       "    <tr>\n",
       "      <th>2</th>\n",
       "      <td>3</td>\n",
       "      <td>CA-2016-138688</td>\n",
       "      <td>6/12/2016</td>\n",
       "      <td>6/16/2016</td>\n",
       "      <td>Second Class</td>\n",
       "      <td>DV-13045</td>\n",
       "      <td>OFF-LA-10000240</td>\n",
       "      <td>14.6200</td>\n",
       "      <td>2</td>\n",
       "      <td>0.00</td>\n",
       "      <td>6.8714</td>\n",
       "    </tr>\n",
       "    <tr>\n",
       "      <th>3</th>\n",
       "      <td>4</td>\n",
       "      <td>US-2015-108966</td>\n",
       "      <td>10/11/2015</td>\n",
       "      <td>10/18/2015</td>\n",
       "      <td>Standard Class</td>\n",
       "      <td>SO-20335</td>\n",
       "      <td>FUR-TA-10000577</td>\n",
       "      <td>957.5775</td>\n",
       "      <td>5</td>\n",
       "      <td>0.45</td>\n",
       "      <td>-383.0310</td>\n",
       "    </tr>\n",
       "    <tr>\n",
       "      <th>4</th>\n",
       "      <td>5</td>\n",
       "      <td>US-2015-108966</td>\n",
       "      <td>10/11/2015</td>\n",
       "      <td>10/18/2015</td>\n",
       "      <td>Standard Class</td>\n",
       "      <td>SO-20335</td>\n",
       "      <td>OFF-ST-10000760</td>\n",
       "      <td>22.3680</td>\n",
       "      <td>2</td>\n",
       "      <td>0.20</td>\n",
       "      <td>2.5164</td>\n",
       "    </tr>\n",
       "  </tbody>\n",
       "</table>\n",
       "</div>"
      ],
      "text/plain": [
       "   row_id        order_id  order_date   ship_date       ship_mode customer_id  \\\n",
       "0       1  CA-2016-152156   11/8/2016  11/11/2016    Second Class    CG-12520   \n",
       "1       2  CA-2016-152156   11/8/2016  11/11/2016    Second Class    CG-12520   \n",
       "2       3  CA-2016-138688   6/12/2016   6/16/2016    Second Class    DV-13045   \n",
       "3       4  US-2015-108966  10/11/2015  10/18/2015  Standard Class    SO-20335   \n",
       "4       5  US-2015-108966  10/11/2015  10/18/2015  Standard Class    SO-20335   \n",
       "\n",
       "        product_id     sales  quantity  discount    profit  \n",
       "0  FUR-BO-10001798  261.9600         2      0.00   41.9136  \n",
       "1  FUR-CH-10000454  731.9400         3      0.00  219.5820  \n",
       "2  OFF-LA-10000240   14.6200         2      0.00    6.8714  \n",
       "3  FUR-TA-10000577  957.5775         5      0.45 -383.0310  \n",
       "4  OFF-ST-10000760   22.3680         2      0.20    2.5164  "
      ]
     },
     "execution_count": 3,
     "metadata": {},
     "output_type": "execute_result"
    }
   ],
   "source": [
    "#Print Head\n",
    "final_superstore.head()"
   ]
  },
  {
   "cell_type": "code",
   "execution_count": 4,
   "id": "modular-president",
   "metadata": {},
   "outputs": [
    {
     "data": {
      "text/html": [
       "<div>\n",
       "<style scoped>\n",
       "    .dataframe tbody tr th:only-of-type {\n",
       "        vertical-align: middle;\n",
       "    }\n",
       "\n",
       "    .dataframe tbody tr th {\n",
       "        vertical-align: top;\n",
       "    }\n",
       "\n",
       "    .dataframe thead th {\n",
       "        text-align: right;\n",
       "    }\n",
       "</style>\n",
       "<table border=\"1\" class=\"dataframe\">\n",
       "  <thead>\n",
       "    <tr style=\"text-align: right;\">\n",
       "      <th></th>\n",
       "      <th>customer_id</th>\n",
       "      <th>customer_name</th>\n",
       "      <th>segment</th>\n",
       "      <th>city</th>\n",
       "      <th>country</th>\n",
       "      <th>state</th>\n",
       "      <th>region</th>\n",
       "      <th>postal_code</th>\n",
       "    </tr>\n",
       "  </thead>\n",
       "  <tbody>\n",
       "    <tr>\n",
       "      <th>0</th>\n",
       "      <td>CG-12520</td>\n",
       "      <td>Claire Gute</td>\n",
       "      <td>Consumer</td>\n",
       "      <td>Henderson</td>\n",
       "      <td>United States</td>\n",
       "      <td>Kentucky</td>\n",
       "      <td>South</td>\n",
       "      <td>42420</td>\n",
       "    </tr>\n",
       "    <tr>\n",
       "      <th>1</th>\n",
       "      <td>DV-13045</td>\n",
       "      <td>Darrin Van Huff</td>\n",
       "      <td>Corporate</td>\n",
       "      <td>Los Angeles</td>\n",
       "      <td>United States</td>\n",
       "      <td>California</td>\n",
       "      <td>West</td>\n",
       "      <td>90036</td>\n",
       "    </tr>\n",
       "    <tr>\n",
       "      <th>2</th>\n",
       "      <td>SO-20335</td>\n",
       "      <td>Sean O'Donnell</td>\n",
       "      <td>Consumer</td>\n",
       "      <td>Fort Lauderdale</td>\n",
       "      <td>United States</td>\n",
       "      <td>Florida</td>\n",
       "      <td>South</td>\n",
       "      <td>33311</td>\n",
       "    </tr>\n",
       "    <tr>\n",
       "      <th>3</th>\n",
       "      <td>BH-11710</td>\n",
       "      <td>Brosina Hoffman</td>\n",
       "      <td>Consumer</td>\n",
       "      <td>Los Angeles</td>\n",
       "      <td>United States</td>\n",
       "      <td>California</td>\n",
       "      <td>West</td>\n",
       "      <td>90032</td>\n",
       "    </tr>\n",
       "    <tr>\n",
       "      <th>4</th>\n",
       "      <td>AA-10480</td>\n",
       "      <td>Andrew Allen</td>\n",
       "      <td>Consumer</td>\n",
       "      <td>Concord</td>\n",
       "      <td>United States</td>\n",
       "      <td>North Carolina</td>\n",
       "      <td>South</td>\n",
       "      <td>28027</td>\n",
       "    </tr>\n",
       "  </tbody>\n",
       "</table>\n",
       "</div>"
      ],
      "text/plain": [
       "  customer_id    customer_name    segment             city        country  \\\n",
       "0    CG-12520      Claire Gute   Consumer        Henderson  United States   \n",
       "1    DV-13045  Darrin Van Huff  Corporate      Los Angeles  United States   \n",
       "2    SO-20335   Sean O'Donnell   Consumer  Fort Lauderdale  United States   \n",
       "3    BH-11710  Brosina Hoffman   Consumer      Los Angeles  United States   \n",
       "4    AA-10480     Andrew Allen   Consumer          Concord  United States   \n",
       "\n",
       "            state region  postal_code  \n",
       "0        Kentucky  South        42420  \n",
       "1      California   West        90036  \n",
       "2         Florida  South        33311  \n",
       "3      California   West        90032  \n",
       "4  North Carolina  South        28027  "
      ]
     },
     "execution_count": 4,
     "metadata": {},
     "output_type": "execute_result"
    }
   ],
   "source": [
    "customer_id_superstore.head()"
   ]
  },
  {
   "cell_type": "code",
   "execution_count": 5,
   "id": "humanitarian-victory",
   "metadata": {},
   "outputs": [
    {
     "data": {
      "text/html": [
       "<div>\n",
       "<style scoped>\n",
       "    .dataframe tbody tr th:only-of-type {\n",
       "        vertical-align: middle;\n",
       "    }\n",
       "\n",
       "    .dataframe tbody tr th {\n",
       "        vertical-align: top;\n",
       "    }\n",
       "\n",
       "    .dataframe thead th {\n",
       "        text-align: right;\n",
       "    }\n",
       "</style>\n",
       "<table border=\"1\" class=\"dataframe\">\n",
       "  <thead>\n",
       "    <tr style=\"text-align: right;\">\n",
       "      <th></th>\n",
       "      <th>product_id</th>\n",
       "      <th>product_name</th>\n",
       "      <th>sub-category</th>\n",
       "      <th>category</th>\n",
       "    </tr>\n",
       "  </thead>\n",
       "  <tbody>\n",
       "    <tr>\n",
       "      <th>0</th>\n",
       "      <td>FUR-BO-10001798</td>\n",
       "      <td>Bush Somerset Collection Bookcase</td>\n",
       "      <td>Bookcases</td>\n",
       "      <td>Furniture</td>\n",
       "    </tr>\n",
       "    <tr>\n",
       "      <th>1</th>\n",
       "      <td>FUR-CH-10000454</td>\n",
       "      <td>Hon Deluxe Fabric Upholstered Stacking Chairs,...</td>\n",
       "      <td>Chairs</td>\n",
       "      <td>Furniture</td>\n",
       "    </tr>\n",
       "    <tr>\n",
       "      <th>2</th>\n",
       "      <td>OFF-LA-10000240</td>\n",
       "      <td>Self-Adhesive Address Labels for Typewriters b...</td>\n",
       "      <td>Labels</td>\n",
       "      <td>Office Supplies</td>\n",
       "    </tr>\n",
       "    <tr>\n",
       "      <th>3</th>\n",
       "      <td>FUR-TA-10000577</td>\n",
       "      <td>Bretford CR4500 Series Slim Rectangular Table</td>\n",
       "      <td>Tables</td>\n",
       "      <td>Furniture</td>\n",
       "    </tr>\n",
       "    <tr>\n",
       "      <th>4</th>\n",
       "      <td>OFF-ST-10000760</td>\n",
       "      <td>Eldon Fold 'N Roll Cart System</td>\n",
       "      <td>Storage</td>\n",
       "      <td>Office Supplies</td>\n",
       "    </tr>\n",
       "  </tbody>\n",
       "</table>\n",
       "</div>"
      ],
      "text/plain": [
       "        product_id                                       product_name  \\\n",
       "0  FUR-BO-10001798                  Bush Somerset Collection Bookcase   \n",
       "1  FUR-CH-10000454  Hon Deluxe Fabric Upholstered Stacking Chairs,...   \n",
       "2  OFF-LA-10000240  Self-Adhesive Address Labels for Typewriters b...   \n",
       "3  FUR-TA-10000577      Bretford CR4500 Series Slim Rectangular Table   \n",
       "4  OFF-ST-10000760                     Eldon Fold 'N Roll Cart System   \n",
       "\n",
       "  sub-category         category  \n",
       "0    Bookcases        Furniture  \n",
       "1       Chairs        Furniture  \n",
       "2       Labels  Office Supplies  \n",
       "3       Tables        Furniture  \n",
       "4      Storage  Office Supplies  "
      ]
     },
     "execution_count": 5,
     "metadata": {},
     "output_type": "execute_result"
    }
   ],
   "source": [
    "product_id_superstore.head()"
   ]
  },
  {
   "cell_type": "code",
   "execution_count": 6,
   "id": "annoying-spotlight",
   "metadata": {},
   "outputs": [
    {
     "name": "stdout",
     "output_type": "stream",
     "text": [
      "<class 'pandas.core.frame.DataFrame'>\n",
      "RangeIndex: 9994 entries, 0 to 9993\n",
      "Data columns (total 11 columns):\n",
      " #   Column       Non-Null Count  Dtype  \n",
      "---  ------       --------------  -----  \n",
      " 0   row_id       9994 non-null   int64  \n",
      " 1   order_id     9994 non-null   object \n",
      " 2   order_date   9994 non-null   object \n",
      " 3   ship_date    9994 non-null   object \n",
      " 4   ship_mode    9994 non-null   object \n",
      " 5   customer_id  9994 non-null   object \n",
      " 6   product_id   9994 non-null   object \n",
      " 7   sales        9994 non-null   float64\n",
      " 8   quantity     9994 non-null   int64  \n",
      " 9   discount     9994 non-null   float64\n",
      " 10  profit       9994 non-null   float64\n",
      "dtypes: float64(3), int64(2), object(6)\n",
      "memory usage: 859.0+ KB\n"
     ]
    }
   ],
   "source": [
    "final_superstore.info()"
   ]
  },
  {
   "cell_type": "code",
   "execution_count": 7,
   "id": "quality-birth",
   "metadata": {},
   "outputs": [
    {
     "name": "stdout",
     "output_type": "stream",
     "text": [
      "<class 'pandas.core.frame.DataFrame'>\n",
      "RangeIndex: 793 entries, 0 to 792\n",
      "Data columns (total 8 columns):\n",
      " #   Column         Non-Null Count  Dtype \n",
      "---  ------         --------------  ----- \n",
      " 0   customer_id    793 non-null    object\n",
      " 1   customer_name  793 non-null    object\n",
      " 2   segment        793 non-null    object\n",
      " 3   city           793 non-null    object\n",
      " 4   country        793 non-null    object\n",
      " 5   state          793 non-null    object\n",
      " 6   region         793 non-null    object\n",
      " 7   postal_code    793 non-null    int64 \n",
      "dtypes: int64(1), object(7)\n",
      "memory usage: 49.7+ KB\n"
     ]
    }
   ],
   "source": [
    "customer_id_superstore.info()"
   ]
  },
  {
   "cell_type": "code",
   "execution_count": 8,
   "id": "formed-wyoming",
   "metadata": {},
   "outputs": [
    {
     "name": "stdout",
     "output_type": "stream",
     "text": [
      "<class 'pandas.core.frame.DataFrame'>\n",
      "RangeIndex: 1862 entries, 0 to 1861\n",
      "Data columns (total 4 columns):\n",
      " #   Column        Non-Null Count  Dtype \n",
      "---  ------        --------------  ----- \n",
      " 0   product_id    1862 non-null   object\n",
      " 1   product_name  1862 non-null   object\n",
      " 2   sub-category  1862 non-null   object\n",
      " 3   category      1862 non-null   object\n",
      "dtypes: object(4)\n",
      "memory usage: 58.3+ KB\n"
     ]
    }
   ],
   "source": [
    "product_id_superstore.info()"
   ]
  },
  {
   "cell_type": "code",
   "execution_count": 23,
   "id": "seeing-affiliate",
   "metadata": {},
   "outputs": [
    {
     "data": {
      "text/html": [
       "<div>\n",
       "<style scoped>\n",
       "    .dataframe tbody tr th:only-of-type {\n",
       "        vertical-align: middle;\n",
       "    }\n",
       "\n",
       "    .dataframe tbody tr th {\n",
       "        vertical-align: top;\n",
       "    }\n",
       "\n",
       "    .dataframe thead th {\n",
       "        text-align: right;\n",
       "    }\n",
       "</style>\n",
       "<table border=\"1\" class=\"dataframe\">\n",
       "  <thead>\n",
       "    <tr style=\"text-align: right;\">\n",
       "      <th></th>\n",
       "      <th>row_id</th>\n",
       "      <th>order_id</th>\n",
       "      <th>order_date</th>\n",
       "      <th>ship_date</th>\n",
       "      <th>ship_mode</th>\n",
       "      <th>customer_id</th>\n",
       "      <th>product_id</th>\n",
       "      <th>sales</th>\n",
       "      <th>quantity</th>\n",
       "      <th>discount</th>\n",
       "      <th>profit</th>\n",
       "      <th>customer_name</th>\n",
       "      <th>segment</th>\n",
       "      <th>city</th>\n",
       "      <th>country</th>\n",
       "      <th>state</th>\n",
       "      <th>region</th>\n",
       "      <th>postal_code</th>\n",
       "    </tr>\n",
       "  </thead>\n",
       "  <tbody>\n",
       "    <tr>\n",
       "      <th>0</th>\n",
       "      <td>1</td>\n",
       "      <td>CA-2016-152156</td>\n",
       "      <td>11/8/2016</td>\n",
       "      <td>11/11/2016</td>\n",
       "      <td>Second Class</td>\n",
       "      <td>CG-12520</td>\n",
       "      <td>FUR-BO-10001798</td>\n",
       "      <td>261.9600</td>\n",
       "      <td>2</td>\n",
       "      <td>0.00</td>\n",
       "      <td>41.9136</td>\n",
       "      <td>Claire Gute</td>\n",
       "      <td>Consumer</td>\n",
       "      <td>Henderson</td>\n",
       "      <td>United States</td>\n",
       "      <td>Kentucky</td>\n",
       "      <td>South</td>\n",
       "      <td>42420</td>\n",
       "    </tr>\n",
       "    <tr>\n",
       "      <th>1</th>\n",
       "      <td>2</td>\n",
       "      <td>CA-2016-152156</td>\n",
       "      <td>11/8/2016</td>\n",
       "      <td>11/11/2016</td>\n",
       "      <td>Second Class</td>\n",
       "      <td>CG-12520</td>\n",
       "      <td>FUR-CH-10000454</td>\n",
       "      <td>731.9400</td>\n",
       "      <td>3</td>\n",
       "      <td>0.00</td>\n",
       "      <td>219.5820</td>\n",
       "      <td>Claire Gute</td>\n",
       "      <td>Consumer</td>\n",
       "      <td>Henderson</td>\n",
       "      <td>United States</td>\n",
       "      <td>Kentucky</td>\n",
       "      <td>South</td>\n",
       "      <td>42420</td>\n",
       "    </tr>\n",
       "    <tr>\n",
       "      <th>2</th>\n",
       "      <td>3</td>\n",
       "      <td>CA-2016-138688</td>\n",
       "      <td>6/12/2016</td>\n",
       "      <td>6/16/2016</td>\n",
       "      <td>Second Class</td>\n",
       "      <td>DV-13045</td>\n",
       "      <td>OFF-LA-10000240</td>\n",
       "      <td>14.6200</td>\n",
       "      <td>2</td>\n",
       "      <td>0.00</td>\n",
       "      <td>6.8714</td>\n",
       "      <td>Darrin Van Huff</td>\n",
       "      <td>Corporate</td>\n",
       "      <td>Los Angeles</td>\n",
       "      <td>United States</td>\n",
       "      <td>California</td>\n",
       "      <td>West</td>\n",
       "      <td>90036</td>\n",
       "    </tr>\n",
       "    <tr>\n",
       "      <th>3</th>\n",
       "      <td>4</td>\n",
       "      <td>US-2015-108966</td>\n",
       "      <td>10/11/2015</td>\n",
       "      <td>10/18/2015</td>\n",
       "      <td>Standard Class</td>\n",
       "      <td>SO-20335</td>\n",
       "      <td>FUR-TA-10000577</td>\n",
       "      <td>957.5775</td>\n",
       "      <td>5</td>\n",
       "      <td>0.45</td>\n",
       "      <td>-383.0310</td>\n",
       "      <td>Sean O'Donnell</td>\n",
       "      <td>Consumer</td>\n",
       "      <td>Fort Lauderdale</td>\n",
       "      <td>United States</td>\n",
       "      <td>Florida</td>\n",
       "      <td>South</td>\n",
       "      <td>33311</td>\n",
       "    </tr>\n",
       "    <tr>\n",
       "      <th>4</th>\n",
       "      <td>5</td>\n",
       "      <td>US-2015-108966</td>\n",
       "      <td>10/11/2015</td>\n",
       "      <td>10/18/2015</td>\n",
       "      <td>Standard Class</td>\n",
       "      <td>SO-20335</td>\n",
       "      <td>OFF-ST-10000760</td>\n",
       "      <td>22.3680</td>\n",
       "      <td>2</td>\n",
       "      <td>0.20</td>\n",
       "      <td>2.5164</td>\n",
       "      <td>Sean O'Donnell</td>\n",
       "      <td>Consumer</td>\n",
       "      <td>Fort Lauderdale</td>\n",
       "      <td>United States</td>\n",
       "      <td>Florida</td>\n",
       "      <td>South</td>\n",
       "      <td>33311</td>\n",
       "    </tr>\n",
       "  </tbody>\n",
       "</table>\n",
       "</div>"
      ],
      "text/plain": [
       "   row_id        order_id  order_date   ship_date       ship_mode customer_id  \\\n",
       "0       1  CA-2016-152156   11/8/2016  11/11/2016    Second Class    CG-12520   \n",
       "1       2  CA-2016-152156   11/8/2016  11/11/2016    Second Class    CG-12520   \n",
       "2       3  CA-2016-138688   6/12/2016   6/16/2016    Second Class    DV-13045   \n",
       "3       4  US-2015-108966  10/11/2015  10/18/2015  Standard Class    SO-20335   \n",
       "4       5  US-2015-108966  10/11/2015  10/18/2015  Standard Class    SO-20335   \n",
       "\n",
       "        product_id     sales  quantity  discount    profit    customer_name  \\\n",
       "0  FUR-BO-10001798  261.9600         2      0.00   41.9136      Claire Gute   \n",
       "1  FUR-CH-10000454  731.9400         3      0.00  219.5820      Claire Gute   \n",
       "2  OFF-LA-10000240   14.6200         2      0.00    6.8714  Darrin Van Huff   \n",
       "3  FUR-TA-10000577  957.5775         5      0.45 -383.0310   Sean O'Donnell   \n",
       "4  OFF-ST-10000760   22.3680         2      0.20    2.5164   Sean O'Donnell   \n",
       "\n",
       "     segment             city        country       state region  postal_code  \n",
       "0   Consumer        Henderson  United States    Kentucky  South        42420  \n",
       "1   Consumer        Henderson  United States    Kentucky  South        42420  \n",
       "2  Corporate      Los Angeles  United States  California   West        90036  \n",
       "3   Consumer  Fort Lauderdale  United States     Florida  South        33311  \n",
       "4   Consumer  Fort Lauderdale  United States     Florida  South        33311  "
      ]
     },
     "execution_count": 23,
     "metadata": {},
     "output_type": "execute_result"
    }
   ],
   "source": [
    "#Merge Between final_superstore and customer_id_superstore\n",
    "result = pd.merge(final_superstore, customer_id_superstore, how='left')\n",
    "result.head()"
   ]
  },
  {
   "cell_type": "code",
   "execution_count": 22,
   "id": "automatic-sleeve",
   "metadata": {},
   "outputs": [
    {
     "data": {
      "text/html": [
       "<div>\n",
       "<style scoped>\n",
       "    .dataframe tbody tr th:only-of-type {\n",
       "        vertical-align: middle;\n",
       "    }\n",
       "\n",
       "    .dataframe tbody tr th {\n",
       "        vertical-align: top;\n",
       "    }\n",
       "\n",
       "    .dataframe thead th {\n",
       "        text-align: right;\n",
       "    }\n",
       "</style>\n",
       "<table border=\"1\" class=\"dataframe\">\n",
       "  <thead>\n",
       "    <tr style=\"text-align: right;\">\n",
       "      <th></th>\n",
       "      <th>row_id</th>\n",
       "      <th>order_id</th>\n",
       "      <th>order_date</th>\n",
       "      <th>ship_date</th>\n",
       "      <th>ship_mode</th>\n",
       "      <th>customer_id</th>\n",
       "      <th>product_id</th>\n",
       "      <th>sales</th>\n",
       "      <th>quantity</th>\n",
       "      <th>discount</th>\n",
       "      <th>...</th>\n",
       "      <th>customer_name</th>\n",
       "      <th>segment</th>\n",
       "      <th>city</th>\n",
       "      <th>country</th>\n",
       "      <th>state</th>\n",
       "      <th>region</th>\n",
       "      <th>postal_code</th>\n",
       "      <th>product_name</th>\n",
       "      <th>sub-category</th>\n",
       "      <th>category</th>\n",
       "    </tr>\n",
       "  </thead>\n",
       "  <tbody>\n",
       "    <tr>\n",
       "      <th>0</th>\n",
       "      <td>1</td>\n",
       "      <td>CA-2016-152156</td>\n",
       "      <td>11/8/2016</td>\n",
       "      <td>11/11/2016</td>\n",
       "      <td>Second Class</td>\n",
       "      <td>CG-12520</td>\n",
       "      <td>FUR-BO-10001798</td>\n",
       "      <td>261.9600</td>\n",
       "      <td>2</td>\n",
       "      <td>0.00</td>\n",
       "      <td>...</td>\n",
       "      <td>Claire Gute</td>\n",
       "      <td>Consumer</td>\n",
       "      <td>Henderson</td>\n",
       "      <td>United States</td>\n",
       "      <td>Kentucky</td>\n",
       "      <td>South</td>\n",
       "      <td>42420</td>\n",
       "      <td>Bush Somerset Collection Bookcase</td>\n",
       "      <td>Bookcases</td>\n",
       "      <td>Furniture</td>\n",
       "    </tr>\n",
       "    <tr>\n",
       "      <th>1</th>\n",
       "      <td>2</td>\n",
       "      <td>CA-2016-152156</td>\n",
       "      <td>11/8/2016</td>\n",
       "      <td>11/11/2016</td>\n",
       "      <td>Second Class</td>\n",
       "      <td>CG-12520</td>\n",
       "      <td>FUR-CH-10000454</td>\n",
       "      <td>731.9400</td>\n",
       "      <td>3</td>\n",
       "      <td>0.00</td>\n",
       "      <td>...</td>\n",
       "      <td>Claire Gute</td>\n",
       "      <td>Consumer</td>\n",
       "      <td>Henderson</td>\n",
       "      <td>United States</td>\n",
       "      <td>Kentucky</td>\n",
       "      <td>South</td>\n",
       "      <td>42420</td>\n",
       "      <td>Hon Deluxe Fabric Upholstered Stacking Chairs,...</td>\n",
       "      <td>Chairs</td>\n",
       "      <td>Furniture</td>\n",
       "    </tr>\n",
       "    <tr>\n",
       "      <th>2</th>\n",
       "      <td>3</td>\n",
       "      <td>CA-2016-138688</td>\n",
       "      <td>6/12/2016</td>\n",
       "      <td>6/16/2016</td>\n",
       "      <td>Second Class</td>\n",
       "      <td>DV-13045</td>\n",
       "      <td>OFF-LA-10000240</td>\n",
       "      <td>14.6200</td>\n",
       "      <td>2</td>\n",
       "      <td>0.00</td>\n",
       "      <td>...</td>\n",
       "      <td>Darrin Van Huff</td>\n",
       "      <td>Corporate</td>\n",
       "      <td>Los Angeles</td>\n",
       "      <td>United States</td>\n",
       "      <td>California</td>\n",
       "      <td>West</td>\n",
       "      <td>90036</td>\n",
       "      <td>Self-Adhesive Address Labels for Typewriters b...</td>\n",
       "      <td>Labels</td>\n",
       "      <td>Office Supplies</td>\n",
       "    </tr>\n",
       "    <tr>\n",
       "      <th>3</th>\n",
       "      <td>4</td>\n",
       "      <td>US-2015-108966</td>\n",
       "      <td>10/11/2015</td>\n",
       "      <td>10/18/2015</td>\n",
       "      <td>Standard Class</td>\n",
       "      <td>SO-20335</td>\n",
       "      <td>FUR-TA-10000577</td>\n",
       "      <td>957.5775</td>\n",
       "      <td>5</td>\n",
       "      <td>0.45</td>\n",
       "      <td>...</td>\n",
       "      <td>Sean O'Donnell</td>\n",
       "      <td>Consumer</td>\n",
       "      <td>Fort Lauderdale</td>\n",
       "      <td>United States</td>\n",
       "      <td>Florida</td>\n",
       "      <td>South</td>\n",
       "      <td>33311</td>\n",
       "      <td>Bretford CR4500 Series Slim Rectangular Table</td>\n",
       "      <td>Tables</td>\n",
       "      <td>Furniture</td>\n",
       "    </tr>\n",
       "    <tr>\n",
       "      <th>4</th>\n",
       "      <td>5</td>\n",
       "      <td>US-2015-108966</td>\n",
       "      <td>10/11/2015</td>\n",
       "      <td>10/18/2015</td>\n",
       "      <td>Standard Class</td>\n",
       "      <td>SO-20335</td>\n",
       "      <td>OFF-ST-10000760</td>\n",
       "      <td>22.3680</td>\n",
       "      <td>2</td>\n",
       "      <td>0.20</td>\n",
       "      <td>...</td>\n",
       "      <td>Sean O'Donnell</td>\n",
       "      <td>Consumer</td>\n",
       "      <td>Fort Lauderdale</td>\n",
       "      <td>United States</td>\n",
       "      <td>Florida</td>\n",
       "      <td>South</td>\n",
       "      <td>33311</td>\n",
       "      <td>Eldon Fold 'N Roll Cart System</td>\n",
       "      <td>Storage</td>\n",
       "      <td>Office Supplies</td>\n",
       "    </tr>\n",
       "  </tbody>\n",
       "</table>\n",
       "<p>5 rows × 21 columns</p>\n",
       "</div>"
      ],
      "text/plain": [
       "   row_id        order_id  order_date   ship_date       ship_mode customer_id  \\\n",
       "0       1  CA-2016-152156   11/8/2016  11/11/2016    Second Class    CG-12520   \n",
       "1       2  CA-2016-152156   11/8/2016  11/11/2016    Second Class    CG-12520   \n",
       "2       3  CA-2016-138688   6/12/2016   6/16/2016    Second Class    DV-13045   \n",
       "3       4  US-2015-108966  10/11/2015  10/18/2015  Standard Class    SO-20335   \n",
       "4       5  US-2015-108966  10/11/2015  10/18/2015  Standard Class    SO-20335   \n",
       "\n",
       "        product_id     sales  quantity  discount  ...    customer_name  \\\n",
       "0  FUR-BO-10001798  261.9600         2      0.00  ...      Claire Gute   \n",
       "1  FUR-CH-10000454  731.9400         3      0.00  ...      Claire Gute   \n",
       "2  OFF-LA-10000240   14.6200         2      0.00  ...  Darrin Van Huff   \n",
       "3  FUR-TA-10000577  957.5775         5      0.45  ...   Sean O'Donnell   \n",
       "4  OFF-ST-10000760   22.3680         2      0.20  ...   Sean O'Donnell   \n",
       "\n",
       "     segment             city        country       state region postal_code  \\\n",
       "0   Consumer        Henderson  United States    Kentucky  South       42420   \n",
       "1   Consumer        Henderson  United States    Kentucky  South       42420   \n",
       "2  Corporate      Los Angeles  United States  California   West       90036   \n",
       "3   Consumer  Fort Lauderdale  United States     Florida  South       33311   \n",
       "4   Consumer  Fort Lauderdale  United States     Florida  South       33311   \n",
       "\n",
       "                                        product_name sub-category  \\\n",
       "0                  Bush Somerset Collection Bookcase    Bookcases   \n",
       "1  Hon Deluxe Fabric Upholstered Stacking Chairs,...       Chairs   \n",
       "2  Self-Adhesive Address Labels for Typewriters b...       Labels   \n",
       "3      Bretford CR4500 Series Slim Rectangular Table       Tables   \n",
       "4                     Eldon Fold 'N Roll Cart System      Storage   \n",
       "\n",
       "          category  \n",
       "0        Furniture  \n",
       "1        Furniture  \n",
       "2  Office Supplies  \n",
       "3        Furniture  \n",
       "4  Office Supplies  \n",
       "\n",
       "[5 rows x 21 columns]"
      ]
     },
     "execution_count": 22,
     "metadata": {},
     "output_type": "execute_result"
    }
   ],
   "source": [
    "#Merge Between result and product_id_superstore\n",
    "final_result = pd.merge(result, product_id_superstore, how='left')\n",
    "final_result.head()\n",
    "\n",
    "# Uncomment for export final_result to csv\n",
    "# final_result.to_csv('csv_sample_data/final_result.csv')"
   ]
  },
  {
   "cell_type": "code",
   "execution_count": 24,
   "id": "amended-navigator",
   "metadata": {},
   "outputs": [
    {
     "name": "stdout",
     "output_type": "stream",
     "text": [
      "<class 'pandas.core.frame.DataFrame'>\n",
      "Int64Index: 9994 entries, 0 to 9993\n",
      "Data columns (total 21 columns):\n",
      " #   Column         Non-Null Count  Dtype  \n",
      "---  ------         --------------  -----  \n",
      " 0   row_id         9994 non-null   int64  \n",
      " 1   order_id       9994 non-null   object \n",
      " 2   order_date     9994 non-null   object \n",
      " 3   ship_date      9994 non-null   object \n",
      " 4   ship_mode      9994 non-null   object \n",
      " 5   customer_id    9994 non-null   object \n",
      " 6   product_id     9994 non-null   object \n",
      " 7   sales          9994 non-null   float64\n",
      " 8   quantity       9994 non-null   int64  \n",
      " 9   discount       9994 non-null   float64\n",
      " 10  profit         9994 non-null   float64\n",
      " 11  customer_name  9994 non-null   object \n",
      " 12  segment        9994 non-null   object \n",
      " 13  city           9994 non-null   object \n",
      " 14  country        9994 non-null   object \n",
      " 15  state          9994 non-null   object \n",
      " 16  region         9994 non-null   object \n",
      " 17  postal_code    9994 non-null   int64  \n",
      " 18  product_name   9994 non-null   object \n",
      " 19  sub-category   9994 non-null   object \n",
      " 20  category       9994 non-null   object \n",
      "dtypes: float64(3), int64(3), object(15)\n",
      "memory usage: 1.7+ MB\n"
     ]
    }
   ],
   "source": [
    "final_result.info()"
   ]
  },
  {
   "cell_type": "markdown",
   "id": "offensive-welcome",
   "metadata": {},
   "source": [
    "# DATA VISUALIZATION"
   ]
  },
  {
   "cell_type": "markdown",
   "id": "expressed-weight",
   "metadata": {},
   "source": [
    "## Top 5 cities that have the most profit"
   ]
  },
  {
   "cell_type": "code",
   "execution_count": 62,
   "id": "raised-pathology",
   "metadata": {},
   "outputs": [
    {
     "data": {
      "text/html": [
       "<div>\n",
       "<style scoped>\n",
       "    .dataframe tbody tr th:only-of-type {\n",
       "        vertical-align: middle;\n",
       "    }\n",
       "\n",
       "    .dataframe tbody tr th {\n",
       "        vertical-align: top;\n",
       "    }\n",
       "\n",
       "    .dataframe thead th {\n",
       "        text-align: right;\n",
       "    }\n",
       "</style>\n",
       "<table border=\"1\" class=\"dataframe\">\n",
       "  <thead>\n",
       "    <tr style=\"text-align: right;\">\n",
       "      <th></th>\n",
       "      <th>city</th>\n",
       "      <th>profit</th>\n",
       "    </tr>\n",
       "  </thead>\n",
       "  <tbody>\n",
       "    <tr>\n",
       "      <th>161</th>\n",
       "      <td>New York City</td>\n",
       "      <td>41892.8872</td>\n",
       "    </tr>\n",
       "    <tr>\n",
       "      <th>217</th>\n",
       "      <td>Seattle</td>\n",
       "      <td>19979.9074</td>\n",
       "    </tr>\n",
       "    <tr>\n",
       "      <th>212</th>\n",
       "      <td>San Francisco</td>\n",
       "      <td>17141.7985</td>\n",
       "    </tr>\n",
       "    <tr>\n",
       "      <th>95</th>\n",
       "      <td>Houston</td>\n",
       "      <td>13279.5153</td>\n",
       "    </tr>\n",
       "    <tr>\n",
       "      <th>183</th>\n",
       "      <td>Philadelphia</td>\n",
       "      <td>12376.6486</td>\n",
       "    </tr>\n",
       "  </tbody>\n",
       "</table>\n",
       "</div>"
      ],
      "text/plain": [
       "              city      profit\n",
       "161  New York City  41892.8872\n",
       "217        Seattle  19979.9074\n",
       "212  San Francisco  17141.7985\n",
       "95         Houston  13279.5153\n",
       "183   Philadelphia  12376.6486"
      ]
     },
     "execution_count": 62,
     "metadata": {},
     "output_type": "execute_result"
    }
   ],
   "source": [
    "#Group by city, sum profit\n",
    "profit_by_city = final_result.groupby('city')['profit'].sum().to_frame().reset_index()\n",
    "\n",
    "#Sort values descending, get the top 5\n",
    "top_5_cities = profit_by_city.sort_values(by='profit', ascending=False).head(5)\n",
    "top_5_cities"
   ]
  },
  {
   "cell_type": "code",
   "execution_count": 177,
   "id": "annual-treasury",
   "metadata": {},
   "outputs": [
    {
     "data": {
      "image/png": "[encoded data removed]",
      "text/plain": [
       "<Figure size 432x288 with 1 Axes>"
      ]
     },
     "metadata": {
      "needs_background": "light"
     },
     "output_type": "display_data"
    }
   ],
   "source": [
    "sns.barplot(data=top_5_cities, x='city', y='profit')\n",
    "plt.title('The Most Profitable City in the Last 5 Years', size=20)\n",
    "plt.show()"
   ]
  },
  {
   "cell_type": "markdown",
   "id": "designing-gateway",
   "metadata": {},
   "source": [
    "## Sales in each region"
   ]
  },
  {
   "cell_type": "code",
   "execution_count": 178,
   "id": "expensive-convention",
   "metadata": {},
   "outputs": [
    {
     "data": {
      "image/png": "[encoded data removed]",
      "text/plain": [
       "<Figure size 576x432 with 1 Axes>"
      ]
     },
     "metadata": {},
     "output_type": "display_data"
    }
   ],
   "source": [
    "#Group by region, sum sales\n",
    "pieee = final_result.groupby(['region'])['sales'].sum()\n",
    "pieee = pieee.reset_index()\n",
    "\n",
    "pieee.plot.pie(y='sales',figsize=(8,6),labels=pieee['region'],autopct ='%.2f', \n",
    "              explode=(0.1,0.1,0.1,0.1))\n",
    "plt.axis('equal')\n",
    "plt.title('Sales in Each Region', size=20)\n",
    "plt.show()"
   ]
  },
  {
   "cell_type": "markdown",
   "id": "ethical-celtic",
   "metadata": {},
   "source": [
    "## Highest sales of 5 countries year after year"
   ]
  },
  {
   "cell_type": "code",
   "execution_count": 160,
   "id": "located-rebate",
   "metadata": {},
   "outputs": [
    {
     "data": {
      "text/plain": [
       "0       2016\n",
       "1       2016\n",
       "2       2016\n",
       "3       2015\n",
       "4       2015\n",
       "        ... \n",
       "9989    2014\n",
       "9990    2017\n",
       "9991    2017\n",
       "9992    2017\n",
       "9993    2017\n",
       "Name: year, Length: 9994, dtype: int64"
      ]
     },
     "execution_count": 160,
     "metadata": {},
     "output_type": "execute_result"
    }
   ],
   "source": [
    "#Convet object to datetime\n",
    "final_result['year'] = pd.to_datetime(final_result['order_date']).astype('datetime64[ns]')\n",
    "\n",
    "#Get the year \n",
    "final_result['year'] = pd.DatetimeIndex(final_result['order_date']).year\n",
    "final_result['year']"
   ]
  },
  {
   "cell_type": "code",
   "execution_count": 184,
   "id": "muslim-firmware",
   "metadata": {},
   "outputs": [
    {
     "data": {
      "text/html": [
       "<div>\n",
       "<style scoped>\n",
       "    .dataframe tbody tr th:only-of-type {\n",
       "        vertical-align: middle;\n",
       "    }\n",
       "\n",
       "    .dataframe tbody tr th {\n",
       "        vertical-align: top;\n",
       "    }\n",
       "\n",
       "    .dataframe thead th {\n",
       "        text-align: right;\n",
       "    }\n",
       "</style>\n",
       "<table border=\"1\" class=\"dataframe\">\n",
       "  <thead>\n",
       "    <tr style=\"text-align: right;\">\n",
       "      <th></th>\n",
       "      <th>year</th>\n",
       "      <th>city</th>\n",
       "      <th>sales</th>\n",
       "    </tr>\n",
       "  </thead>\n",
       "  <tbody>\n",
       "    <tr>\n",
       "      <th>0</th>\n",
       "      <td>2014</td>\n",
       "      <td>Akron</td>\n",
       "      <td>1362.346</td>\n",
       "    </tr>\n",
       "    <tr>\n",
       "      <th>1</th>\n",
       "      <td>2014</td>\n",
       "      <td>Albuquerque</td>\n",
       "      <td>56.520</td>\n",
       "    </tr>\n",
       "    <tr>\n",
       "      <th>2</th>\n",
       "      <td>2014</td>\n",
       "      <td>Amarillo</td>\n",
       "      <td>2003.120</td>\n",
       "    </tr>\n",
       "    <tr>\n",
       "      <th>3</th>\n",
       "      <td>2014</td>\n",
       "      <td>Arlington</td>\n",
       "      <td>1850.357</td>\n",
       "    </tr>\n",
       "    <tr>\n",
       "      <th>4</th>\n",
       "      <td>2014</td>\n",
       "      <td>Asheville</td>\n",
       "      <td>2723.496</td>\n",
       "    </tr>\n",
       "  </tbody>\n",
       "</table>\n",
       "</div>"
      ],
      "text/plain": [
       "   year         city     sales\n",
       "0  2014        Akron  1362.346\n",
       "1  2014  Albuquerque    56.520\n",
       "2  2014     Amarillo  2003.120\n",
       "3  2014    Arlington  1850.357\n",
       "4  2014    Asheville  2723.496"
      ]
     },
     "execution_count": 184,
     "metadata": {},
     "output_type": "execute_result"
    }
   ],
   "source": [
    "# Group by year and city\n",
    "year_city = final_result.groupby(['year','city'])['sales'].sum().reset_index()\n",
    "year_city.head()"
   ]
  },
  {
   "cell_type": "code",
   "execution_count": 125,
   "id": "angry-prison",
   "metadata": {},
   "outputs": [
    {
     "data": {
      "text/html": [
       "<div>\n",
       "<style scoped>\n",
       "    .dataframe tbody tr th:only-of-type {\n",
       "        vertical-align: middle;\n",
       "    }\n",
       "\n",
       "    .dataframe tbody tr th {\n",
       "        vertical-align: top;\n",
       "    }\n",
       "\n",
       "    .dataframe thead th {\n",
       "        text-align: right;\n",
       "    }\n",
       "</style>\n",
       "<table border=\"1\" class=\"dataframe\">\n",
       "  <thead>\n",
       "    <tr style=\"text-align: right;\">\n",
       "      <th></th>\n",
       "      <th>year</th>\n",
       "      <th>city</th>\n",
       "      <th>sales</th>\n",
       "    </tr>\n",
       "  </thead>\n",
       "  <tbody>\n",
       "    <tr>\n",
       "      <th>108</th>\n",
       "      <td>2014</td>\n",
       "      <td>Los Angeles</td>\n",
       "      <td>33676.750</td>\n",
       "    </tr>\n",
       "    <tr>\n",
       "      <th>138</th>\n",
       "      <td>2014</td>\n",
       "      <td>New York City</td>\n",
       "      <td>31894.020</td>\n",
       "    </tr>\n",
       "    <tr>\n",
       "      <th>129</th>\n",
       "      <td>2014</td>\n",
       "      <td>Monroe</td>\n",
       "      <td>24709.390</td>\n",
       "    </tr>\n",
       "    <tr>\n",
       "      <th>180</th>\n",
       "      <td>2014</td>\n",
       "      <td>San Francisco</td>\n",
       "      <td>23760.168</td>\n",
       "    </tr>\n",
       "    <tr>\n",
       "      <th>80</th>\n",
       "      <td>2014</td>\n",
       "      <td>Houston</td>\n",
       "      <td>21923.401</td>\n",
       "    </tr>\n",
       "  </tbody>\n",
       "</table>\n",
       "</div>"
      ],
      "text/plain": [
       "     year           city      sales\n",
       "108  2014    Los Angeles  33676.750\n",
       "138  2014  New York City  31894.020\n",
       "129  2014         Monroe  24709.390\n",
       "180  2014  San Francisco  23760.168\n",
       "80   2014        Houston  21923.401"
      ]
     },
     "execution_count": 125,
     "metadata": {},
     "output_type": "execute_result"
    }
   ],
   "source": [
    "year_city[year_city['year'] == 2014].sort_values(by='sales', ascending = False).head(5)"
   ]
  },
  {
   "cell_type": "code",
   "execution_count": 126,
   "id": "harmful-marijuana",
   "metadata": {},
   "outputs": [
    {
     "data": {
      "text/html": [
       "<div>\n",
       "<style scoped>\n",
       "    .dataframe tbody tr th:only-of-type {\n",
       "        vertical-align: middle;\n",
       "    }\n",
       "\n",
       "    .dataframe tbody tr th {\n",
       "        vertical-align: top;\n",
       "    }\n",
       "\n",
       "    .dataframe thead th {\n",
       "        text-align: right;\n",
       "    }\n",
       "</style>\n",
       "<table border=\"1\" class=\"dataframe\">\n",
       "  <thead>\n",
       "    <tr style=\"text-align: right;\">\n",
       "      <th></th>\n",
       "      <th>year</th>\n",
       "      <th>city</th>\n",
       "      <th>sales</th>\n",
       "    </tr>\n",
       "  </thead>\n",
       "  <tbody>\n",
       "    <tr>\n",
       "      <th>367</th>\n",
       "      <td>2015</td>\n",
       "      <td>Philadelphia</td>\n",
       "      <td>41369.1812</td>\n",
       "    </tr>\n",
       "    <tr>\n",
       "      <th>348</th>\n",
       "      <td>2015</td>\n",
       "      <td>New York City</td>\n",
       "      <td>41143.0266</td>\n",
       "    </tr>\n",
       "    <tr>\n",
       "      <th>319</th>\n",
       "      <td>2015</td>\n",
       "      <td>Los Angeles</td>\n",
       "      <td>28270.8246</td>\n",
       "    </tr>\n",
       "    <tr>\n",
       "      <th>396</th>\n",
       "      <td>2015</td>\n",
       "      <td>San Francisco</td>\n",
       "      <td>23096.7240</td>\n",
       "    </tr>\n",
       "    <tr>\n",
       "      <th>401</th>\n",
       "      <td>2015</td>\n",
       "      <td>Seattle</td>\n",
       "      <td>19071.9670</td>\n",
       "    </tr>\n",
       "  </tbody>\n",
       "</table>\n",
       "</div>"
      ],
      "text/plain": [
       "     year           city       sales\n",
       "367  2015   Philadelphia  41369.1812\n",
       "348  2015  New York City  41143.0266\n",
       "319  2015    Los Angeles  28270.8246\n",
       "396  2015  San Francisco  23096.7240\n",
       "401  2015        Seattle  19071.9670"
      ]
     },
     "execution_count": 126,
     "metadata": {},
     "output_type": "execute_result"
    }
   ],
   "source": [
    "year_city[year_city['year'] == 2015].sort_values(by='sales', ascending = False).head(5)"
   ]
  },
  {
   "cell_type": "code",
   "execution_count": 114,
   "id": "modern-marker",
   "metadata": {},
   "outputs": [
    {
     "data": {
      "text/html": [
       "<div>\n",
       "<style scoped>\n",
       "    .dataframe tbody tr th:only-of-type {\n",
       "        vertical-align: middle;\n",
       "    }\n",
       "\n",
       "    .dataframe tbody tr th {\n",
       "        vertical-align: top;\n",
       "    }\n",
       "\n",
       "    .dataframe thead th {\n",
       "        text-align: right;\n",
       "    }\n",
       "</style>\n",
       "<table border=\"1\" class=\"dataframe\">\n",
       "  <thead>\n",
       "    <tr style=\"text-align: right;\">\n",
       "      <th></th>\n",
       "      <th>year</th>\n",
       "      <th>city</th>\n",
       "      <th>sales</th>\n",
       "    </tr>\n",
       "  </thead>\n",
       "  <tbody>\n",
       "    <tr>\n",
       "      <th>570</th>\n",
       "      <td>2016</td>\n",
       "      <td>New York City</td>\n",
       "      <td>53094.0530</td>\n",
       "    </tr>\n",
       "    <tr>\n",
       "      <th>589</th>\n",
       "      <td>2016</td>\n",
       "      <td>Philadelphia</td>\n",
       "      <td>39895.5208</td>\n",
       "    </tr>\n",
       "    <tr>\n",
       "      <th>619</th>\n",
       "      <td>2016</td>\n",
       "      <td>Seattle</td>\n",
       "      <td>33955.4778</td>\n",
       "    </tr>\n",
       "    <tr>\n",
       "      <th>542</th>\n",
       "      <td>2016</td>\n",
       "      <td>Los Angeles</td>\n",
       "      <td>33611.0850</td>\n",
       "    </tr>\n",
       "    <tr>\n",
       "      <th>615</th>\n",
       "      <td>2016</td>\n",
       "      <td>San Francisco</td>\n",
       "      <td>27990.0305</td>\n",
       "    </tr>\n",
       "  </tbody>\n",
       "</table>\n",
       "</div>"
      ],
      "text/plain": [
       "     year           city       sales\n",
       "570  2016  New York City  53094.0530\n",
       "589  2016   Philadelphia  39895.5208\n",
       "619  2016        Seattle  33955.4778\n",
       "542  2016    Los Angeles  33611.0850\n",
       "615  2016  San Francisco  27990.0305"
      ]
     },
     "execution_count": 114,
     "metadata": {},
     "output_type": "execute_result"
    }
   ],
   "source": [
    "year_city[year_city['year'] == 2016].sort_values(by='sales', ascending = False).head(5)"
   ]
  },
  {
   "cell_type": "code",
   "execution_count": 115,
   "id": "industrial-destruction",
   "metadata": {},
   "outputs": [
    {
     "data": {
      "text/html": [
       "<div>\n",
       "<style scoped>\n",
       "    .dataframe tbody tr th:only-of-type {\n",
       "        vertical-align: middle;\n",
       "    }\n",
       "\n",
       "    .dataframe tbody tr th {\n",
       "        vertical-align: top;\n",
       "    }\n",
       "\n",
       "    .dataframe thead th {\n",
       "        text-align: right;\n",
       "    }\n",
       "</style>\n",
       "<table border=\"1\" class=\"dataframe\">\n",
       "  <thead>\n",
       "    <tr style=\"text-align: right;\">\n",
       "      <th></th>\n",
       "      <th>year</th>\n",
       "      <th>city</th>\n",
       "      <th>sales</th>\n",
       "    </tr>\n",
       "  </thead>\n",
       "  <tbody>\n",
       "    <tr>\n",
       "      <th>805</th>\n",
       "      <td>2017</td>\n",
       "      <td>New York City</td>\n",
       "      <td>84795.8925</td>\n",
       "    </tr>\n",
       "    <tr>\n",
       "      <th>775</th>\n",
       "      <td>2017</td>\n",
       "      <td>Los Angeles</td>\n",
       "      <td>46212.1510</td>\n",
       "    </tr>\n",
       "    <tr>\n",
       "      <th>743</th>\n",
       "      <td>2017</td>\n",
       "      <td>Houston</td>\n",
       "      <td>35002.7730</td>\n",
       "    </tr>\n",
       "    <tr>\n",
       "      <th>854</th>\n",
       "      <td>2017</td>\n",
       "      <td>Seattle</td>\n",
       "      <td>33873.4370</td>\n",
       "    </tr>\n",
       "    <tr>\n",
       "      <th>824</th>\n",
       "      <td>2017</td>\n",
       "      <td>Philadelphia</td>\n",
       "      <td>32665.9180</td>\n",
       "    </tr>\n",
       "  </tbody>\n",
       "</table>\n",
       "</div>"
      ],
      "text/plain": [
       "     year           city       sales\n",
       "805  2017  New York City  84795.8925\n",
       "775  2017    Los Angeles  46212.1510\n",
       "743  2017        Houston  35002.7730\n",
       "854  2017        Seattle  33873.4370\n",
       "824  2017   Philadelphia  32665.9180"
      ]
     },
     "execution_count": 115,
     "metadata": {},
     "output_type": "execute_result"
    }
   ],
   "source": [
    "year_city[year_city['year'] == 2017].sort_values(by='sales', ascending = False).head(5)"
   ]
  },
  {
   "cell_type": "code",
   "execution_count": 175,
   "id": "thirty-steering",
   "metadata": {},
   "outputs": [],
   "source": [
    "top5_sales_by_year = year_city[year_city['city'].isin(['New York City', 'Houston', 'Seattle', 'San Francisco', 'Philadelphia'])]"
   ]
  },
  {
   "cell_type": "code",
   "execution_count": 192,
   "id": "engaged-explanation",
   "metadata": {
    "scrolled": true
   },
   "outputs": [
    {
     "data": {
      "image/png": "[encoded data removed]",
      "text/plain": [
       "<Figure size 432x288 with 1 Axes>"
      ]
     },
     "metadata": {
      "needs_background": "light"
     },
     "output_type": "display_data"
    }
   ],
   "source": [
    "sns.lineplot(data=top5_sales_by_year, x='year', y='sales', hue='city')\n",
    "plt.title('5 Countries With the Highest Sales Every Year', size=20)\n",
    "plt.show()"
   ]
  },
  {
   "cell_type": "markdown",
   "id": "thick-chapel",
   "metadata": {},
   "source": [
    "## Which category is ordered the most each year ? "
   ]
  },
  {
   "cell_type": "code",
   "execution_count": 195,
   "id": "first-practitioner",
   "metadata": {},
   "outputs": [
    {
     "data": {
      "image/png": "[encoded data removed]",
      "text/plain": [
       "<Figure size 432x288 with 1 Axes>"
      ]
     },
     "metadata": {
      "needs_background": "light"
     },
     "output_type": "display_data"
    }
   ],
   "source": [
    "sns.countplot(data=final_result, x='category', hue='year')\n",
    "plt.title('The Most Ordered Category Every Year', size=20)\n",
    "plt.show()"
   ]
  },
  {
   "cell_type": "markdown",
   "id": "looking-segment",
   "metadata": {},
   "source": [
    "# ANSIBLE DEPLOYMENT"
   ]
  },
  {
   "cell_type": "markdown",
   "id": "lightweight-impact",
   "metadata": {},
   "source": [
    "## Advantage"
   ]
  },
  {
   "cell_type": "markdown",
   "id": "sought-retirement",
   "metadata": {},
   "source": [
    "### Simple to Learn"
   ]
  },
  {
   "cell_type": "markdown",
   "id": "initial-signature",
   "metadata": {},
   "source": [
    "The foremost mention among advantages of Ansible refers to its simplicity. The simplicity is not only meant for professionals but also for beginners. It is easy to learn, and so, users could learn to use Ansible quickly along with better productivity."
   ]
  },
  {
   "cell_type": "markdown",
   "id": "minor-hands",
   "metadata": {},
   "source": [
    "### Easily Understandable Python Language"
   ]
  },
  {
   "cell_type": "markdown",
   "id": "vital-throat",
   "metadata": {},
   "source": [
    "Another interesting aspect of Ansible is the facility of Ansible modules that can improve its functionality. The Ansible modules can be written in any language. However, the important concern, in this case, is that the module should return data in JSON format."
   ]
  },
  {
   "cell_type": "markdown",
   "id": "valued-thriller",
   "metadata": {},
   "source": [
    "### Playbooks are written in YAML"
   ]
  },
  {
   "cell_type": "markdown",
   "id": "selected-local",
   "metadata": {},
   "source": [
    "Playbooks are Ansible configuration files, and the language for writing them is YAML. The interesting factor, in this case, is that YAML is a better alternative for configuration management and automation."
   ]
  },
  {
   "cell_type": "markdown",
   "id": "vanilla-junction",
   "metadata": {},
   "source": [
    "## Disadvantage"
   ]
  },
  {
   "cell_type": "markdown",
   "id": "restricted-wealth",
   "metadata": {},
   "source": [
    "### Insufficient User Interface"
   ]
  },
  {
   "cell_type": "markdown",
   "id": "aggregate-removal",
   "metadata": {},
   "source": [
    "The first entry in the disadvantages of Ansible is the crude user interface. Ansible was initially a command-line only tool. "
   ]
  },
  {
   "cell_type": "markdown",
   "id": "fresh-denver",
   "metadata": {},
   "source": [
    "### Limited Windows Support"
   ]
  },
  {
   "cell_type": "markdown",
   "id": "needed-ceramic",
   "metadata": {},
   "source": [
    "In the case of Windows, Ansible employs a native PowerShell remoting rather than SSH. As a result, a Linux control machine is mandatory for the management of Windows hosts. The limited support for Windows in Ansible presents one of the formidable setbacks with the configuration management and automation tool."
   ]
  },
  {
   "cell_type": "markdown",
   "id": "convinced-special",
   "metadata": {},
   "source": [
    "## Ansible Documentation"
   ]
  },
  {
   "cell_type": "markdown",
   "id": "bridal-governor",
   "metadata": {},
   "source": [
    "<img src='ansible_documentation.png' />"
   ]
  },
  {
   "cell_type": "markdown",
   "id": "everyday-cursor",
   "metadata": {},
   "source": [
    "Here is a playbook that I made using the ubuntu virtual machine, but I still don't really understand how to use it, especially making localhost. So I don't execute this playbook on the terminal"
   ]
  },
  {
   "cell_type": "markdown",
   "id": "starting-facial",
   "metadata": {},
   "source": [
    "# SERVER HIGH AVAILABILITY"
   ]
  },
  {
   "cell_type": "markdown",
   "id": "cleared-designation",
   "metadata": {},
   "source": [
    "High availability (HA) is the ability of a system to operate continuously without failing for a designated period of time. HA works to ensure a system meets an agreed-upon operational performance level. In information technology (IT), a widely held but difficult-to-achieve standard of availability is known as five-nines availability, which means the system or product is available 99.999% of the time."
   ]
  },
  {
   "cell_type": "markdown",
   "id": "quality-fleet",
   "metadata": {},
   "source": [
    "## Five automated strategies to high availability:"
   ]
  },
  {
   "cell_type": "markdown",
   "id": "referenced-learning",
   "metadata": {},
   "source": [
    "### 1. Application-Level Routing"
   ]
  },
  {
   "cell_type": "markdown",
   "id": "frank-specification",
   "metadata": {},
   "source": [
    "In the event of a transaction failure, cloud-aware applications can be engineered to intelligently route transactions to a secondary service point. A failed transaction query is automatically reprocessed at the secondary working location"
   ]
  },
  {
   "cell_type": "markdown",
   "id": "careful-broadway",
   "metadata": {},
   "source": [
    "<img src='application-level routing.png' />"
   ]
  },
  {
   "cell_type": "markdown",
   "id": "ideal-solomon",
   "metadata": {},
   "source": [
    "### 2. Network IP Management"
   ]
  },
  {
   "cell_type": "markdown",
   "id": "smooth-stable",
   "metadata": {},
   "source": [
    "Network IP Management allows a published service IP to move between machines at the time of a failure. This is classified as a self-healing process, where two servers monitor one another. If the first server malfunctions, the second server assumes its roles and processes."
   ]
  },
  {
   "cell_type": "markdown",
   "id": "atlantic-validity",
   "metadata": {},
   "source": [
    "<img src='network ip management.png'/>"
   ]
  },
  {
   "cell_type": "markdown",
   "id": "differential-secret",
   "metadata": {},
   "source": [
    "### 3. Monitoring"
   ]
  },
  {
   "cell_type": "markdown",
   "id": "hungry-insert",
   "metadata": {},
   "source": [
    "A well-integrated monitoring package not only provides insight into an application and its current function, it monitors error-rates that exceed a predefined threshold. For example, an e-commerce site can set up monitoring on a payment gateway so that if credit card authorization transactions exceed a 20% failure rate, their Network Operations Center (NOC) automatically gets an alert and self-healing tasks on the infrastructure initiate.\n",
    "\n",
    "Some widely available monitoring packages are Nagios, Cacti, Zabbix, and Icinga"
   ]
  },
  {
   "cell_type": "markdown",
   "id": "dirty-restoration",
   "metadata": {},
   "source": [
    "### 4. Stateless Transactions"
   ]
  },
  {
   "cell_type": "markdown",
   "id": "fossil-shopper",
   "metadata": {},
   "source": [
    "Engineering an application to perform transactions in a stateless manner significantly improves availability. In a stateless model, any machine only keeps state (data on) transactions that are ‘in fly,’ but after a transaction is completed, any machines that die or degrade have no effect on the state or memory of historic transactions. Clients are therefore not limited to server dependence, and the loss of any pool member in a tier ensures the client session is not interrupted due to a hardware or application fault on a discrete pool member."
   ]
  },
  {
   "cell_type": "markdown",
   "id": "registered-agent",
   "metadata": {},
   "source": [
    "### 5. Multi-Site Configurations"
   ]
  },
  {
   "cell_type": "markdown",
   "id": "starting-chapter",
   "metadata": {},
   "source": [
    "In the (unlikely) event of a catastrophic hardware failure, resources can be redeployed to a secondary location in minutes and with little planning. Data replication and resource availability is present in the secondary location, and the just-in-time deployment of entire application infrastructures is measured in minutes, not hours or longer.\n",
    "\n",
    "When architected and implemented properly, multi-site configurations allow a company to redeploy their entire infrastructure in a new data center.\n",
    "\n",
    "An organization that cannot tolerate downtime in their application infrastructure will benefit the most from a multi-site configuration. In this situation, the additional site would be a completely independent data center that hosts an independent copy of the primary site infrastructure. Depending on how the site application is configured, the additional site can either be in an active-active configuration that services a portion of the traffic coming into the site, or a primary-failover site that will not serve traffic, but sits idle while continuously replicating data from the primary."
   ]
  },
  {
   "cell_type": "code",
   "execution_count": null,
   "id": "fabulous-spider",
   "metadata": {},
   "outputs": [],
   "source": []
  }
 ],
 "metadata": {
  "kernelspec": {
   "display_name": "Python 3",
   "language": "python",
   "name": "python3"
  },
  "language_info": {
   "codemirror_mode": {
    "name": "ipython",
    "version": 3
   },
   "file_extension": ".py",
   "mimetype": "text/x-python",
   "name": "python",
   "nbconvert_exporter": "python",
   "pygments_lexer": "ipython3",
   "version": "3.8.5"
  }
 },
 "nbformat": 4,
 "nbformat_minor": 5
}
